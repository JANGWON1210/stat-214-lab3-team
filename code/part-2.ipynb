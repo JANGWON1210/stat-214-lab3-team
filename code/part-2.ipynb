{
 "cells": [
  {
   "cell_type": "markdown",
   "id": "d904fdb7",
   "metadata": {},
   "source": [
    "# Part 2: Modeling & Evaluation\n",
    "\n",
    "This script performs ridge regression modeling and evaluation on preprocessed brain response data using three types of word embeddings: Word2Vec, GloVe, and BoW. Due to the large size of the dataset (especially BoW), the script is designed to run modularly and efficiently with careful memory management.\n",
    "\n",
    "## Objectives\n",
    "- Train a ridge regression model on each type of embedding.\n",
    "- Cross-validate and select the best-performing model.\n",
    "- Report evaluation metrics:\n",
    "    - Mean test correlation coefficient (CC)\n",
    "    - Median test CC\n",
    "    - Top 1 percentile CC\n",
    "    - Top 5 percentile CC\n",
    "- For the best embedding:\n",
    "    - Visualize the distribution of CCs across voxels.\n",
    "    - Analyze voxel-wise performance and discuss scientific implications (PCS).\n",
    "    - Perform stability analysis (e.g., across stories or subjects).\n",
    "\n",
    "\n",
    "## Files Used\n",
    "This script assumes that the following data files exist in `../data/`:\n",
    "- X_lagged_BoW.joblib\n",
    "- X_lagged_Glove.pkl\n",
    "- X_lagged_W2V.pkl\n",
    "\n",
    "And under the Pittsburgh Supercomputing Center (PSC) computing environment (accessed through the STAT 214 course at UC Berkeley, sprint 2025), we assume the response data is stored in the following directory: \n",
    "\n",
    "`../../tmp_ondemand_ocean_mth240012p_symlink/shared/data/`"
   ]
  },
  {
   "cell_type": "code",
   "execution_count": null,
   "id": "1ca0e813-167b-46f0-934a-0167d6a74c56",
   "metadata": {},
   "outputs": [],
   "source": [
    "# Import necessary libraries\n",
    "\n",
    "import numpy as np\n",
    "import joblib\n",
    "import pickle\n",
    "from pathlib import Path\n",
    "from sklearn.model_selection import train_test_split\n",
    "import sys\n",
    "import importlib.util\n",
    "import os"
   ]
  },
  {
   "cell_type": "code",
   "execution_count": null,
   "id": "edb8cf37-3242-420d-b7d5-401e9999ff75",
   "metadata": {},
   "outputs": [],
   "source": [
    "# Load the ridge.py module\n",
    "embedding_dir = Path(\"data\")\n",
    "subject2_dir = Path(\"tmp_ondemand_ocean_mth240012p_symlink/shared/data/subject2\")\n",
    "subject3_dir = Path(\"tmp_ondemand_ocean_mth240012p_symlink/shared/data/subject3\")\n",
    "ridge_py_path = Path(\"ridge.py\")\n",
    "ridge_utils_dir = Path(\"ridge_utils\") \n",
    "\n",
    "sys.path.append(str(ridge_utils_dir))\n",
    "\n",
    "spec = importlib.util.spec_from_file_location(\"ridge\", ridge_py_path)\n",
    "ridge = importlib.util.module_from_spec(spec)\n",
    "sys.modules[\"ridge\"] = ridge\n",
    "spec.loader.exec_module(ridge)\n",
    "bootstrap_ridge = ridge.bootstrap_ridge\n",
    "\n",
    "# Load the data\n",
    "X_bow = joblib.load(embedding_dir / \"X_lagged_BoW.joblib\")\n",
    "with open(embedding_dir / \"X_lagged_W2V.pkl\", \"rb\") as f:\n",
    "    X_w2v = pickle.load(f)\n",
    "with open(embedding_dir / \"X_lagged_W2V.pkl\", \"rb\") as f:\n",
    "    X_w2v = pickle.load(f)\n",
    "with open(embedding_dir / \"X_lagged_GloVe.pkl\", \"rb\") as f:\n",
    "    X_glove = pickle.load(f)\n",
    "X_dict = {\"Word2Vec\": X_w2v, \"GloVe\": X_glove}\n",
    "\n",
    "def load_subject_data(subject_dir):\n",
    "    return {f.stem: np.load(f) for f in subject_dir.glob(\"*.npy\")}\n",
    "\n",
    "# Load Response Data\n",
    "Y_subject2 = load_subject_data(subject2_dir)\n",
    "Y_subject3 = load_subject_data(subject3_dir)\n"
   ]
  },
  {
   "cell_type": "code",
   "execution_count": null,
   "id": "f9f77f80-2a48-4729-868e-6136dde63749",
   "metadata": {},
   "outputs": [],
   "source": [
    "\"\"\"\n",
    "Performs bootstrap ridge regression across multiple word embeddings (BoW, Word2Vec, GloVe)\n",
    "and two subjects (subject2, subject3) for each shared story. The workflow includes:\n",
    "\n",
    "1. Iterating through each combination of embedding type and subject.\n",
    "2. For each story that exists in both the embedding and subject's response data:\n",
    "   - Verifies timepoint alignment between X (stimuli) and Y (response).\n",
    "   - Applies z-score normalization to both X and Y.\n",
    "   - Splits the data into 80% training and 20% test set.\n",
    "   - Runs bootstrap ridge regression to compute voxel-level prediction performance.\n",
    "   - Stores mean correlation coefficient (CC) across all voxels.\n",
    "3. Handles shape mismatches and any runtime exceptions gracefully with logging.\n",
    "4. Aggregates results into a DataFrame and saves them to a CSV file (`ridge_results.csv`).\n",
    "\n",
    "Results:\n",
    "    - A CSV file containing the mean correlation coefficient per (embedding, subject, story) triplet.\n",
    "    - Enables later analysis of which embedding performs best across stories and subjects.\n",
    "\"\"\"\n",
    "\n",
    "from time import time\n",
    "import pandas as pd\n",
    "\n",
    "# Initialize variables\n",
    "total_tasks = sum(len(X_dict[x_key]) for x_key in X_dict for _ in [0, 1])\n",
    "task_counter = 0\n",
    "\n",
    "all_corrs = []\n",
    "results = []\n",
    "\n",
    "# Function to standardize the data\n",
    "def zs(v):\n",
    "    std = v.std(axis=0)\n",
    "    std[std == 0] = 1\n",
    "    return (v - v.mean(axis=0)) / std\n",
    "\n",
    "# Conduct bootstrap ridge regression\n",
    "for x_key, x_data in X_dict.items():\n",
    "    for subj_key, y_data in [(\"subj2\", Y_subject2), (\"subj3\", Y_subject3)]:\n",
    "        shared_stories = sorted(list(set(x_data.keys()) & set(y_data.keys())))\n",
    "        for story in shared_stories: \n",
    "            print(f\"\\n[Running] {x_key} - {subj_key} - {story}\")\n",
    "            X = x_data[story]\n",
    "            Y = y_data[story]\n",
    "\n",
    "            if X.shape[0] != Y.shape[0]:\n",
    "                print(f\"  [Skip] Mismatch in shape: X={X.shape}, Y={Y.shape}\")\n",
    "                continue\n",
    "\n",
    "            try:\n",
    "                X_z = zs(X)\n",
    "                Y_z = zs(Y)\n",
    "                X_train, X_test, Y_train, Y_test = train_test_split(X_z, Y_z, test_size=0.2, random_state=42)\n",
    "                alphas = np.logspace(0, 3, 20)\n",
    "                start_time = time()\n",
    "                wt, corrs, valalphas, _, _ = bootstrap_ridge(\n",
    "                    X_train, Y_train, X_test, Y_test,\n",
    "                    alphas=alphas, nboots=10, chunklen=10, nchunks=2,\n",
    "                    return_wt=True\n",
    "                )\n",
    "                elapsed = time() - start_time\n",
    "                print(f\"  [Done] Mean CC={np.mean(corrs):.3f}, Time={elapsed:.1f}s\")\n",
    "\n",
    "                all_corrs.extend(corrs)  # accumulate all voxel-level CCs\n",
    "                results.append((x_key, subj_key, story, float(np.mean(corrs))))\n",
    "\n",
    "            except Exception as e:\n",
    "                print(f\"  [Error] {story}: {e}\")\n",
    "\n",
    "df = pd.DataFrame(results, columns=[\"X_type\", \"subject\", \"story\", \"mean_cc\"])\n",
    "df.to_csv(\"ridge_results.csv\", index=False)"
   ]
  },
  {
   "cell_type": "code",
   "execution_count": null,
   "id": "56349099-5279-476f-b578-c5835fe5d5ed",
   "metadata": {},
   "outputs": [
    {
     "name": "stdout",
     "output_type": "stream",
     "text": [
      "Mean CC: 0.054233624284112526\n",
      "Median CC: 0.05074821353271207\n",
      "Top 5% Quantile: 0.29633661432667996\n",
      "Top 1% Quantile: 0.4115187004011807\n"
     ]
    }
   ],
   "source": [
    "\"\"\"\n",
    "Summary statistics of voxel-wise correlation coefficients (CCs):\n",
    "- Mean CC provides an overall average performance across all voxels.\n",
    "- Median CC represents the middle value, giving a robust sense of central tendency.\n",
    "- Top 5% Quantile (95th percentile) shows the threshold above which the top 5% of voxel performances lie.\n",
    "- Top 1% Quantile (99th percentile) highlights the very best-performing voxels in the distribution.\n",
    "\"\"\"\n",
    "\n",
    "print(\"Mean CC:\", np.mean(all_corrs))\n",
    "print(\"Median CC:\", np.median(all_corrs))\n",
    "print(\"Top 5% Quantile:\", np.quantile(all_corrs, 0.95))\n",
    "print(\"Top 1% Quantile:\", np.quantile(all_corrs, 0.99))"
   ]
  },
  {
   "cell_type": "code",
   "execution_count": null,
   "id": "b02f7978-e5ac-4884-939f-d1c66ec8f8c3",
   "metadata": {
    "tags": []
   },
   "outputs": [
    {
     "name": "stdout",
     "output_type": "stream",
     "text": [
      "\n",
      " Best Embedding: Word2Vec\n"
     ]
    }
   ],
   "source": [
    "# Determine the best embedding based on mean correlation coefficient\n",
    "best_embedding = df.groupby(\"X_type\")[\"mean_corr\"].mean().idxmax()\n",
    "print(f\"\\n Best Embedding: {best_embedding}\")"
   ]
  },
  {
   "cell_type": "code",
   "execution_count": null,
   "id": "809410b7-ad86-4d0e-a881-5a94b4104592",
   "metadata": {
    "tags": []
   },
   "outputs": [
    {
     "data": {
      "image/png": "[encoded data removed]",
      "text/plain": [
       "<Figure size 1000x500 with 1 Axes>"
      ]
     },
     "metadata": {},
     "output_type": "display_data"
    }
   ],
   "source": [
    "# Visualize the distribution of correlation coefficients for the best embedding\n",
    "import matplotlib.pyplot as plt\n",
    "\n",
    "best_corrs = []\n",
    "for row in df[df[\"X_type\"] == best_embedding][\"corrs\"]:\n",
    "    best_corrs.extend(row)  # convert string list back to float list\n",
    "\n",
    "plt.figure(figsize=(10, 5))\n",
    "plt.hist(best_corrs, bins=100, color='skyblue', edgecolor='black')\n",
    "plt.title(f\"Distribution of Test CCs (Best Embedding: {best_embedding})\")\n",
    "plt.xlabel(\"Correlation Coefficient (CC)\")\n",
    "plt.ylabel(\"Number of Voxels\")\n",
    "plt.grid(True)\n",
    "plt.tight_layout()\n",
    "plt.savefig(\"best_embedding_distribution.png\", dpi=300)\n",
    "plt.show()"
   ]
  },
  {
   "cell_type": "code",
   "execution_count": null,
   "id": "235ac06b-386c-45e7-bf29-09475ccb1401",
   "metadata": {
    "tags": []
   },
   "outputs": [
    {
     "name": "stdout",
     "output_type": "stream",
     "text": [
      "\n",
      " Stability Analysis: Comparing Subject2 vs Subject3\n",
      "Word2Vec: Subject2 mean=0.0571, Subject3 mean=0.0600\n",
      "GloVe: Subject2 mean=0.0516, Subject3 mean=0.0525\n"
     ]
    }
   ],
   "source": [
    "# Stability Analysis\n",
    "\n",
    "print(\"\\n Stability Analysis: Comparing Subject2 vs Subject3\")\n",
    "for emb in df[\"X_type\"].unique():\n",
    "    subj2_mean = df[(df[\"X_type\"] == emb) & (df[\"subject\"] == \"subj2\")][\"mean_corr\"].mean()\n",
    "    subj3_mean = df[(df[\"X_type\"] == emb) & (df[\"subject\"] == \"subj3\")][\"mean_corr\"].mean()\n",
    "    print(f\"{emb}: Subject2 mean={subj2_mean:.4f}, Subject3 mean={subj3_mean:.4f}\")"
   ]
  }
 ],
 "metadata": {
  "kernelspec": {
   "display_name": "stat214",
   "language": "python",
   "name": "python3"
  },
  "language_info": {
   "codemirror_mode": {
    "name": "ipython",
    "version": 3
   },
   "file_extension": ".py",
   "mimetype": "text/x-python",
   "name": "python",
   "nbconvert_exporter": "python",
   "pygments_lexer": "ipython3",
   "version": "3.12.2"
  }
 },
 "nbformat": 4,
 "nbformat_minor": 5
}
